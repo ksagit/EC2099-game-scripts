{
 "cells": [
  {
   "cell_type": "code",
   "execution_count": 164,
   "metadata": {
    "collapsed": true
   },
   "outputs": [],
   "source": [
    "# This program was written by Kyle Sargent for the EC2099 Final Project\n",
    "\n",
    "import numpy as np\n",
    "import copy\n",
    "import itertools\n",
    "\n",
    "class Game:\n",
    "    #An implementation of cooperative n-player game with arbitrary numbers of strategies per player\n",
    "    #Has a brute-force solver for Nash equilibria\n",
    "    \n",
    "    #payoff tensor has dimension (# of strats of p1, # of strats of p2, ... , # of strats of pn, n)\n",
    "    def __init__(self, payoff_tensor):\n",
    "        self.num_players = len(payoff_tensor.shape) - 1\n",
    "        self.payoff_tensor = payoff_tensor\n",
    "        #a list of the number of strategies available to each player\n",
    "        self.strategies = list(payoff_tensor.shape[:-1])\n",
    "        \n",
    "    #strategy is a list [s1, s2, ... sn] where si \\in range(0, # of strats of pi)\n",
    "    #player is a number in range(0, n)\n",
    "    def is_optimal_strategy(self, player, strategy):\n",
    "        s = copy.copy(strategy)\n",
    "        payoff = self.payoff_tensor[tuple(s)][player]\n",
    "        for p_strat in range(0, self.strategies[player]):\n",
    "            s[player] = p_strat\n",
    "            new_payoff = self.payoff_tensor[tuple(s)][player]\n",
    "            if new_payoff > payoff:\n",
    "                return False\n",
    "        return True\n",
    "    \n",
    "    def is_nasheq(self, strategy):\n",
    "        t = True\n",
    "        for player in range(0, self.num_players):\n",
    "            t = t and self.is_optimal_strategy(player, strategy)\n",
    "        return t\n",
    "            \n",
    "    def nasheqs(self):\n",
    "        l = [list(s) for s in itertools.product(*[list(range(0, i)) for i in self.strategies])]\n",
    "        return list(filter(self.is_nasheq, l))\n",
    "        "
   ]
  },
  {
   "cell_type": "code",
   "execution_count": 332,
   "metadata": {},
   "outputs": [
    {
     "data": {
      "text/plain": [
       "[[0, 0], [1, 1]]"
      ]
     },
     "execution_count": 332,
     "metadata": {},
     "output_type": "execute_result"
    }
   ],
   "source": [
    "#Stag Hunt - A test case\n",
    "\n",
    "payoff_tensor = np.array([[ [10,10], [0,8] ], [[8,0], [7,7]]])\n",
    "g = Game(payoff_tensor)\n",
    "g.nasheqs()"
   ]
  },
  {
   "cell_type": "code",
   "execution_count": 402,
   "metadata": {
    "collapsed": true
   },
   "outputs": [],
   "source": [
    "class NBA(Game):\n",
    "    \n",
    "    def __init__(self, skills, delta, r, h):\n",
    "        players = len(skills)\n",
    "        payoff_tensor = np.zeros(tuple([2] * players + [players]))\n",
    "\n",
    "        for strategy in itertools.product([0, 1], repeat = players):\n",
    "            e1 = [j*strategy[p] for p,j in enumerate(skills)]\n",
    "            v1 = smooth_os(e1)\n",
    "\n",
    "            e2 = np.array(skills) + r*h(v1)\n",
    "            v2 = smooth_os(e2)\n",
    "\n",
    "            payoff_tensor[strategy] = v1 + delta * v2\n",
    "        \n",
    "        super().__init__(payoff_tensor)\n",
    "        self.skills = skills\n",
    "        self.delta = delta\n",
    "        self.r = r\n",
    "        self.h = h\n",
    "\n",
    "    @staticmethod\n",
    "    def rd_os(l):\n",
    "        #gives rounded-down order statistics of an array\n",
    "        return np.array([np.argsort(np.argsort(l))[list(l).index(i)] for i in l])\n",
    "    \n",
    "    @staticmethod\n",
    "    def smooth_os(l):\n",
    "        #gives averaged-in-tie order statistics of an array\n",
    "        lp = list(rd_os(l))\n",
    "        return np.array([i + .5 * (lp.count(i) - 1) for i in lp])\n",
    "\n",
    "    def is_tankeq(self, strategy):\n",
    "        if self.is_nasheq(strategy):\n",
    "            for player in range(self.num_players):\n",
    "                strategy2 = copy.copy(strategy)\n",
    "                strategy2[player] = 1\n",
    "                if strategy[player] == 0 and not self.is_nasheq(strategy2):\n",
    "                    return True\n",
    "        return False\n",
    "    \n",
    "    def tankeqs(self):\n",
    "        return list(filter(lambda x: is_tankeq(self, x), self.nasheqs()))"
   ]
  },
  {
   "cell_type": "code",
   "execution_count": 468,
   "metadata": {
    "collapsed": true
   },
   "outputs": [
    {
     "name": "stdout",
     "output_type": "stream",
     "text": [
      "0\n",
      "1\n",
      "2\n",
      "3\n",
      "4\n",
      "5\n",
      "6\n",
      "7\n",
      "8\n",
      "9\n",
      "10\n",
      "11\n",
      "12\n",
      "13\n",
      "14\n",
      "15\n",
      "16\n",
      "17\n",
      "18\n",
      "19\n",
      "20\n",
      "21\n",
      "22\n",
      "23\n",
      "24\n",
      "25\n",
      "26\n",
      "27\n",
      "28\n",
      "29\n",
      "30\n",
      "31\n",
      "32\n",
      "33\n",
      "34\n",
      "35\n",
      "36\n",
      "37\n",
      "38\n",
      "39\n",
      "40\n",
      "41\n",
      "42\n",
      "43\n",
      "44\n",
      "45\n",
      "46\n",
      "47\n",
      "48\n",
      "49\n"
     ]
    },
    {
     "data": {
      "image/png": "[encoded data removed]",
      "text/plain": [
       "<matplotlib.figure.Figure at 0x1330a1518>"
      ]
     },
     "metadata": {},
     "output_type": "display_data"
    }
   ],
   "source": [
    "def h(arr):\n",
    "    return (1 - arr)\n",
    "\n",
    "def r_simulate(n):\n",
    "    ptanked_avgs = np.zeros((100))\n",
    "    num_players = n\n",
    "    \n",
    "    for i in range(0,50):\n",
    "        skills = np.random.normal(size=num_players)**2\n",
    "        rs = []\n",
    "        ptankeds = []\n",
    "        \n",
    "        print(i)\n",
    "\n",
    "        for r_iter in range(0, 100):\n",
    "            r = .1 * r_iter\n",
    "            delta = .9\n",
    "            g = NBA(skills, delta, r, h)\n",
    "            rs += [r]\n",
    "\n",
    "            ne = g.nasheqs()\n",
    "            te = list(filter(lambda x : g.is_tankeq(x), ne))\n",
    "\n",
    "            ptankeds += [len(ne) - len(te)] \n",
    "\n",
    "        ptanked_avgs += np.array(ptankeds)\n",
    "\n",
    "    ptanked_avgs = ptanked_avgs / 100\n",
    "    return rs, ptanked_avgs\n",
    "\n",
    "def delta_simulate(n):\n",
    "    ptanked_avgs = np.zeros((100))\n",
    "    num_players = n\n",
    "    \n",
    "    for i in range(0,50):\n",
    "        skills = np.random.normal(size=num_players)**2\n",
    "        ds = []\n",
    "        ptankeds = []\n",
    "        \n",
    "        print(i)\n",
    "\n",
    "        for d_iter in range(0, 100):\n",
    "            r = 2\n",
    "            delta = d_iter * .01\n",
    "            g = NBA(skills, delta, r, h)\n",
    "            ds += [delta]\n",
    "\n",
    "            ne = g.nasheqs()\n",
    "            te = list(filter(lambda x : g.is_tankeq(x), ne))\n",
    "\n",
    "            ptankeds += [len(te) / (len(ne) + 1)] \n",
    "\n",
    "        ptanked_avgs += np.array(ptankeds)\n",
    "\n",
    "    ptanked_avgs = ptanked_avgs / 100\n",
    "    return ds, ptanked_avgs\n",
    "\n",
    "import matplotlib.pyplot as plt\n",
    "\n",
    "plt.clf()\n",
    "    \n",
    "for n in [5]:\n",
    "    plt.plot(*delta_simulate(n))\n",
    "    \n",
    "plt.xlabel(\"Value of delta\")\n",
    "plt.ylabel(\"Percentage of Tank Equilibria\")\n",
    "plt.show()"
   ]
  },
  {
   "cell_type": "code",
   "execution_count": 447,
   "metadata": {
    "scrolled": true
   },
   "outputs": [
    {
     "data": {
      "image/png": "[encoded data removed]",
      "text/plain": [
       "<matplotlib.figure.Figure at 0x132b992b0>"
      ]
     },
     "metadata": {},
     "output_type": "display_data"
    }
   ],
   "source": [
    "plt.clf()\n",
    "plt.plot(rs, ptanked_avgs)\n",
    "plt.xlabel(\"Value of alpha\")\n",
    "plt.ylabel(\"Percentage of Tank Equilibria\")\n",
    "plt.show()"
   ]
  },
  {
   "cell_type": "code",
   "execution_count": 404,
   "metadata": {},
   "outputs": [
    {
     "name": "stdout",
     "output_type": "stream",
     "text": [
      "[[1, 1, 0, 0, 1]]\n"
     ]
    }
   ],
   "source": []
  }
 ],
 "metadata": {
  "kernelspec": {
   "display_name": "Python 3",
   "language": "python",
   "name": "python3"
  },
  "language_info": {
   "codemirror_mode": {
    "name": "ipython",
    "version": 3
   },
   "file_extension": ".py",
   "mimetype": "text/x-python",
   "name": "python",
   "nbconvert_exporter": "python",
   "pygments_lexer": "ipython3",
   "version": "3.6.1"
  }
 },
 "nbformat": 4,
 "nbformat_minor": 2
}
