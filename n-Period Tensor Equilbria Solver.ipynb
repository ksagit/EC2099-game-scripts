{
 "cells": [
  {
   "cell_type": "code",
   "execution_count": 3,
   "metadata": {},
   "outputs": [
    {
     "ename": "NameError",
     "evalue": "name 'Game' is not defined",
     "output_type": "error",
     "traceback": [
      "\u001b[0;31m---------------------------------------------------------------------------\u001b[0m",
      "\u001b[0;31mNameError\u001b[0m                                 Traceback (most recent call last)",
      "\u001b[0;32m<ipython-input-3-6feefb2fade7>\u001b[0m in \u001b[0;36m<module>\u001b[0;34m()\u001b[0m\n\u001b[1;32m     48\u001b[0m         \u001b[0mpayoff_tensor\u001b[0m\u001b[0;34m[\u001b[0m\u001b[0mstrategy\u001b[0m\u001b[0;34m]\u001b[0m \u001b[0;34m+=\u001b[0m \u001b[0mdiscounted_utility\u001b[0m\u001b[0;34m[\u001b[0m\u001b[0mi\u001b[0m\u001b[0;34m]\u001b[0m\u001b[0;34m\u001b[0m\u001b[0m\n\u001b[1;32m     49\u001b[0m \u001b[0;34m\u001b[0m\u001b[0m\n\u001b[0;32m---> 50\u001b[0;31m \u001b[0mg\u001b[0m \u001b[0;34m=\u001b[0m \u001b[0mGame\u001b[0m\u001b[0;34m(\u001b[0m\u001b[0mpayoff_tensor\u001b[0m\u001b[0;34m)\u001b[0m\u001b[0;34m\u001b[0m\u001b[0m\n\u001b[0m\u001b[1;32m     51\u001b[0m \u001b[0mg\u001b[0m\u001b[0;34m.\u001b[0m\u001b[0mnasheqs\u001b[0m\u001b[0;34m(\u001b[0m\u001b[0;34m)\u001b[0m\u001b[0;34m\u001b[0m\u001b[0m\n",
      "\u001b[0;31mNameError\u001b[0m: name 'Game' is not defined"
     ]
    }
   ],
   "source": [
    "#This code was written by William Chang to handle additional periods,\n",
    "#subject to the constraint of choosing a strategy at the beginning\n",
    "\n",
    "import numpy as np\n",
    "import itertools\n",
    "\n",
    "def rd_os(l):\n",
    "    #gives rounded-down order statistics of an array\n",
    "    return np.array([np.argsort(np.argsort(l))[list(l).index(i)] for i in l])\n",
    "\n",
    "def smooth_os(l):\n",
    "    #gives averaged-in-tie order statistics of an array\n",
    "    l = list(rd_os(l))\n",
    "    return np.array([i + .5 * (l.count(i) - 1) for i in l])\n",
    "\n",
    "def utility_function(l, f):\n",
    "    return np.array([f(x) for x in smooth_os(l)])\n",
    "\n",
    "skills = list(range(6))\n",
    "players = len(skills)\n",
    "delta = .9\n",
    "r = 0.6\n",
    "periods = 2\n",
    "k = 200\n",
    "center = len(skills) - 3\n",
    "scaling_factor = 10\n",
    "\n",
    "def exponential_utility(x): return np.exp(x)\n",
    "def sigmoid(x): return scaling_factor/(1+np.exp(-k*(x - center)))\n",
    "\n",
    "def h(arr):\n",
    "    lst = smooth_os(arr) + 1\n",
    "    return [r*(max(skills) - min(skills))/x**2 for x in lst]\n",
    "\n",
    "payoff_tensor = np.zeros(tuple([2] * players + [players]))\n",
    "\n",
    "for strategy in itertools.product([0,1], repeat = players):\n",
    "    vlist = [utility_function(np.array([[0,skills[p]][i] for p,i in enumerate(strategy)]), sigmoid)]\n",
    "    \n",
    "    for period in range(1, periods):\n",
    "        vlist.append(utility_function(np.array(skills) + h(vlist[period - 1]), sigmoid))\n",
    "        \n",
    "    discounted_utility = [(delta**i) * vlist[i] for i in range(periods)]\n",
    "    \n",
    "    payoff_tensor[strategy] = np.zeros(len(discounted_utility[0]))\n",
    "\n",
    "    for i in range(len(discounted_utility)):\n",
    "        payoff_tensor[strategy] += discounted_utility[i]\n",
    "\n",
    "g = Game(payoff_tensor)\n",
    "g.nasheqs()"
   ]
  },
  {
   "cell_type": "code",
   "execution_count": null,
   "metadata": {
    "collapsed": true
   },
   "outputs": [],
   "source": []
  }
 ],
 "metadata": {
  "kernelspec": {
   "display_name": "Python 3",
   "language": "python",
   "name": "python3"
  },
  "language_info": {
   "codemirror_mode": {
    "name": "ipython",
    "version": 3
   },
   "file_extension": ".py",
   "mimetype": "text/x-python",
   "name": "python",
   "nbconvert_exporter": "python",
   "pygments_lexer": "ipython3",
   "version": "3.6.1"
  }
 },
 "nbformat": 4,
 "nbformat_minor": 2
}
